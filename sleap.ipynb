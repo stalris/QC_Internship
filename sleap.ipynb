{
  "nbformat": 4,
  "nbformat_minor": 0,
  "metadata": {
    "colab": {
      "provenance": [],
      "gpuType": "T4",
      "authorship_tag": "ABX9TyNNg0buBuwD+JFixjTa9FUF",
      "include_colab_link": true
    },
    "kernelspec": {
      "name": "python3",
      "display_name": "Python 3"
    },
    "language_info": {
      "name": "python"
    },
    "accelerator": "GPU"
  },
  "cells": [
    {
      "cell_type": "markdown",
      "metadata": {
        "id": "view-in-github",
        "colab_type": "text"
      },
      "source": [
        "<a href=\"https://colab.research.google.com/github/stalris/QC_Internship/blob/main/sleap.ipynb\" target=\"_parent\"><img src=\"https://colab.research.google.com/assets/colab-badge.svg\" alt=\"Open In Colab\"/></a>"
      ]
    },
    {
      "cell_type": "markdown",
      "source": [],
      "metadata": {
        "id": "59o6NjheQMLG"
      }
    },
    {
      "cell_type": "code",
      "source": [
        "# download miniconda. Commands taken from the sleap installation docs, and tweaked for google colab. Think it installs conda 24.11.3 as of March 28th 2025\n",
        "!curl -fsSL --compressed https://github.com/conda-forge/miniforge/releases/latest/download/Miniforge3-Linux-x86_64.sh -o \"/content/m.sh\"\n",
        "!chmod +x \"/content/m.sh\"\n",
        "!./m.sh -b -f -p /usr/local\n",
        "!rm /content/m.sh"
      ],
      "metadata": {
        "id": "j4sRpTDaCGvY"
      },
      "execution_count": null,
      "outputs": []
    },
    {
      "cell_type": "code",
      "source": [
        "# install sleap via instructions from sleap docs\n",
        "!conda create -y -n sleap -c conda-forge -c nvidia -c sleap/label/dev -c sleap -c anaconda sleap=1.4.1"
      ],
      "metadata": {
        "id": "FoIm16W7EeN2"
      },
      "execution_count": null,
      "outputs": []
    },
    {
      "cell_type": "code",
      "source": [
        "# SLEAP relies on matplotlib_inline and IPython, which aren't included by default in the Conda environment. Install them now.\n",
        "!/usr/local/envs/sleap/bin/pip install matplotlib_inline IPython"
      ],
      "metadata": {
        "id": "8q3A4fPyarbB"
      },
      "execution_count": null,
      "outputs": []
    },
    {
      "cell_type": "markdown",
      "source": [],
      "metadata": {
        "id": "L5SQ8UXsomdT"
      }
    },
    {
      "cell_type": "code",
      "source": [
        "# per chatgpt, the following checks if Tensorflow is using a GPU\n",
        "import tensorflow as tf\n",
        "print(\"TensorFlow version:\", tf.__version__)\n",
        "print(\"Built with CUDA:\", tf.test.is_built_with_cuda())\n",
        "print(\"GPU devices found:\", tf.config.list_physical_devices('GPU'))"
      ],
      "metadata": {
        "id": "wsG0WUGmOQD_"
      },
      "execution_count": null,
      "outputs": []
    },
    {
      "cell_type": "code",
      "source": [
        "!gdown 1l4vq_zecyKdlw82tzXXmvHIsD-A-7azK -O fishy.mp4\n",
        "!wget -O fish.zip https://github.com/stalris/QC_Internship/archive/refs/heads/main.zip\n",
        "!unzip fish.zip -d fish\n",
        "!rm fish.zip\n",
        "!mv fish/QC_Internship-main/local local/\n",
        "!rm -r fish"
      ],
      "metadata": {
        "id": "Ls8wUBTclbCm"
      },
      "execution_count": null,
      "outputs": []
    },
    {
      "cell_type": "code",
      "source": [
        "# just incase I need the sample data again\n",
        "\n",
        "#!apt-get install tree\n",
        "#!wget -O dataset.zip https://github.com/talmolab/sleap-datasets/releases/download/dm-courtship-v1/drosophila-melanogaster-courtship.zip\n",
        "#!mkdir -p dataset\n",
        "#!unzip dataset.zip -d dataset\n",
        "#!rm dataset.zip\n",
        "#!tree dataset\n",
        "#!mkdir -p drosophila\n",
        "#!mv dataset/drosophila-melanogaster-courtship/* drosophila/\n",
        "#!rm -rf dataset\n",
        "\n",
        "# I set the \"run_name\" attribute as \"buggy\" in each config file.\n",
        "\n",
        "#!/usr/local/envs/sleap/bin/sleap-train drosophila/centered_instance.json drosophila/courtship_labels.slp --video-paths drosophila/20190128_113421.mp4\n",
        "#!/usr/local/envs/sleap/bin/sleap-train drosophila/centroid.json drosophila/courtship_labels.slp --video-paths drosophila/20190128_113421.mp4\n",
        "#!/usr/local/envs/sleap/bin/sleap-track drosophila/20190128_113421.mp4 -m models/buggy.centered_instance/ -m models/buggy.centroid/"
      ],
      "metadata": {
        "id": "20NvLQtWsIE8"
      },
      "execution_count": null,
      "outputs": []
    },
    {
      "cell_type": "code",
      "source": [
        "!/usr/local/envs/sleap/bin/sleap-train --run_name fishy local/centered_instance.json local/labels.slp\n",
        "!/usr/local/envs/sleap/bin/sleap-train --run_name fishy local/centroid.json local/labels.slp"
      ],
      "metadata": {
        "id": "qpmSgFBDCG2b"
      },
      "execution_count": null,
      "outputs": []
    },
    {
      "cell_type": "code",
      "source": [
        "!/usr/local/envs/sleap/bin/sleap-track -m models/fishy.centered_instance/ -m models/fishy.centroid/ fishy.mp4"
      ],
      "metadata": {
        "id": "LE0wr5ICTc75"
      },
      "execution_count": null,
      "outputs": []
    },
    {
      "cell_type": "code",
      "source": [
        "from google.colab import drive\n",
        "drive.mount('/content/drive')"
      ],
      "metadata": {
        "id": "G50uQYZ1TY6Y"
      },
      "execution_count": null,
      "outputs": []
    },
    {
      "cell_type": "code",
      "source": [
        "!mv models/ drive/MyDrive/Colab"
      ],
      "metadata": {
        "id": "Tk9vArHgK0Fx",
        "outputId": "988c2fb0-65e0-4a44-a593-8c348db746d3",
        "colab": {
          "base_uri": "https://localhost:8080/"
        }
      },
      "execution_count": 11,
      "outputs": [
        {
          "output_type": "stream",
          "name": "stdout",
          "text": [
            "mv: cannot stat 'models/': No such file or directory\n"
          ]
        }
      ]
    },
    {
      "cell_type": "markdown",
      "source": [],
      "metadata": {
        "id": "DndQfKwGkcvN"
      }
    }
  ]
}