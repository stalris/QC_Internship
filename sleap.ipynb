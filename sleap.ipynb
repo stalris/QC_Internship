{
  "nbformat": 4,
  "nbformat_minor": 0,
  "metadata": {
    "colab": {
      "provenance": [],
      "authorship_tag": "ABX9TyM+DlfDxhAYcAdqYTqVBhBv",
      "include_colab_link": true
    },
    "kernelspec": {
      "name": "python3",
      "display_name": "Python 3"
    },
    "language_info": {
      "name": "python"
    }
  },
  "cells": [
    {
      "cell_type": "markdown",
      "metadata": {
        "id": "view-in-github",
        "colab_type": "text"
      },
      "source": [
        "<a href=\"https://colab.research.google.com/github/stalris/QC_Internship/blob/main/sleap.ipynb\" target=\"_parent\"><img src=\"https://colab.research.google.com/assets/colab-badge.svg\" alt=\"Open In Colab\"/></a>"
      ]
    },
    {
      "cell_type": "markdown",
      "source": [],
      "metadata": {
        "id": "59o6NjheQMLG"
      }
    },
    {
      "cell_type": "code",
      "source": [
        "# download miniconda. Commands taken from the sleap installation docs, and tweaked for google colab. Think it installs conda 24.11.3 as of March 28th 2025\n",
        "!curl -fsSL --compressed https://github.com/conda-forge/miniforge/releases/latest/download/Miniforge3-Linux-x86_64.sh -o \"/content/m.sh\"\n",
        "!chmod +x \"/content/m.sh\"\n",
        "!./m.sh -b -f -p /usr/local\n",
        "!rm /content/m.sh"
      ],
      "metadata": {
        "id": "j4sRpTDaCGvY"
      },
      "execution_count": null,
      "outputs": []
    },
    {
      "cell_type": "code",
      "source": [
        "# install sleap via instructions from sleap docs\n",
        "!conda create -y -n sleap -c conda-forge -c nvidia -c sleap/label/dev -c sleap -c anaconda sleap=1.4.1"
      ],
      "metadata": {
        "id": "FoIm16W7EeN2"
      },
      "execution_count": null,
      "outputs": []
    },
    {
      "cell_type": "code",
      "source": [
        "# SLEAP relies on matplotlib_inline and IPython, which aren't included by default in the Conda environment. Install them now.\n",
        "!/usr/local/envs/sleap/bin/pip install matplotlib_inline IPython"
      ],
      "metadata": {
        "id": "8q3A4fPyarbB"
      },
      "execution_count": null,
      "outputs": []
    },
    {
      "cell_type": "markdown",
      "source": [],
      "metadata": {
        "id": "L5SQ8UXsomdT"
      }
    },
    {
      "cell_type": "code",
      "source": [
        "# per chatgpt, the following checks if Tensorflow is using a GPU\n",
        "import tensorflow as tf\n",
        "print(\"TensorFlow version:\", tf.__version__)\n",
        "print(\"Built with CUDA:\", tf.test.is_built_with_cuda())\n",
        "print(\"GPU devices found:\", tf.config.list_physical_devices('GPU'))\n",
        "\n"
      ],
      "metadata": {
        "id": "wsG0WUGmOQD_"
      },
      "execution_count": null,
      "outputs": []
    },
    {
      "cell_type": "code",
      "source": [
        "!wget -O fish_small.mp4 https://drive.google.com/drive/folders/1qtYAecGsAJ48JSn2_dXzK6M__Svo8SxP?usp=sharing\n",
        "!wget -O fish_repo.zip https://github.com/stalris/QC_Internship/archive/refs/heads/main.zip\n",
        "!unzip fish_repo.zip -d fish_repo\n",
        "!rm fish_repo.zip"
      ],
      "metadata": {
        "id": "Ls8wUBTclbCm"
      },
      "execution_count": null,
      "outputs": []
    }
  ]
}