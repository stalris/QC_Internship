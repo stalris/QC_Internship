{
  "nbformat": 4,
  "nbformat_minor": 0,
  "metadata": {
    "colab": {
      "provenance": [],
      "gpuType": "T4",
      "authorship_tag": "ABX9TyOdqany2qU5emYDgjS2ebOb",
      "include_colab_link": true
    },
    "kernelspec": {
      "name": "python3",
      "display_name": "Python 3"
    },
    "language_info": {
      "name": "python"
    },
    "accelerator": "GPU"
  },
  "cells": [
    {
      "cell_type": "markdown",
      "metadata": {
        "id": "view-in-github",
        "colab_type": "text"
      },
      "source": [
        "<a href=\"https://colab.research.google.com/github/stalris/QC_Internship/blob/main/sleap.ipynb\" target=\"_parent\"><img src=\"https://colab.research.google.com/assets/colab-badge.svg\" alt=\"Open In Colab\"/></a>"
      ]
    },
    {
      "cell_type": "markdown",
      "source": [],
      "metadata": {
        "id": "59o6NjheQMLG"
      }
    },
    {
      "cell_type": "code",
      "source": [
        "# download miniconda. Commands taken from the sleap installation docs, and tweaked for google colab. Think it installs conda 24.11.3 as of March 28th 2025\n",
        "!curl -fsSL --compressed https://github.com/conda-forge/miniforge/releases/latest/download/Miniforge3-Linux-x86_64.sh -o \"/content/m.sh\"\n",
        "!chmod +x \"/content/m.sh\"\n",
        "!./m.sh -b -f -p /usr/local\n",
        "!rm /content/m.sh"
      ],
      "metadata": {
        "id": "j4sRpTDaCGvY"
      },
      "execution_count": null,
      "outputs": []
    },
    {
      "cell_type": "code",
      "source": [
        "# install sleap via instructions from sleap docs\n",
        "!conda create -y -n sleap -c conda-forge -c nvidia -c sleap/label/dev -c sleap -c anaconda sleap=1.4.1"
      ],
      "metadata": {
        "id": "FoIm16W7EeN2"
      },
      "execution_count": null,
      "outputs": []
    },
    {
      "cell_type": "code",
      "source": [
        "# SLEAP relies on matplotlib_inline and IPython, which aren't included by default in the Conda environment. Install them now.\n",
        "!/usr/local/envs/sleap/bin/pip install matplotlib_inline IPython"
      ],
      "metadata": {
        "id": "8q3A4fPyarbB"
      },
      "execution_count": null,
      "outputs": []
    },
    {
      "cell_type": "markdown",
      "source": [],
      "metadata": {
        "id": "L5SQ8UXsomdT"
      }
    },
    {
      "cell_type": "code",
      "source": [
        "# per chatgpt, the following checks if Tensorflow is using a GPU\n",
        "import tensorflow as tf\n",
        "print(\"TensorFlow version:\", tf.__version__)\n",
        "print(\"Built with CUDA:\", tf.test.is_built_with_cuda())\n",
        "print(\"GPU devices found:\", tf.config.list_physical_devices('GPU'))"
      ],
      "metadata": {
        "id": "wsG0WUGmOQD_"
      },
      "execution_count": null,
      "outputs": []
    },
    {
      "cell_type": "code",
      "source": [
        "!wget -O fish_small.mp4 https://drive.google.com/drive/folders/1qtYAecGsAJ48JSn2_dXzK6M__Svo8SxP?usp=sharing\n",
        "!wget -O fish_repo.zip https://github.com/stalris/QC_Internship/archive/refs/heads/main.zip\n",
        "!unzip fish_repo.zip -d fish_repo\n",
        "!rm fish_repo.zip\n",
        "!mv fish_repo/QC_Internship-main/fish_package/* fish_repo/\n",
        "!rmdir fish_repo/QC_Internship-main/"
      ],
      "metadata": {
        "id": "Ls8wUBTclbCm"
      },
      "execution_count": null,
      "outputs": []
    },
    {
      "cell_type": "code",
      "source": [
        "!apt-get install tree\n",
        "!wget -O dataset.zip https://github.com/talmolab/sleap-datasets/releases/download/dm-courtship-v1/drosophila-melanogaster-courtship.zip\n",
        "!mkdir -p dataset\n",
        "!unzip dataset.zip -d dataset\n",
        "!rm dataset.zip\n",
        "!tree dataset\n",
        "!mkdir -p drosophila\n",
        "!mv dataset/drosophila-melanogaster-courtship/* drosophila/\n",
        "!rm -rf dataset"
      ],
      "metadata": {
        "id": "20NvLQtWsIE8"
      },
      "execution_count": null,
      "outputs": []
    },
    {
      "cell_type": "code",
      "source": [
        "!/usr/local/envs/sleap/bin/sleap-train drosophila/centered_instance.json drosophila/courtship_labels.slp --video-paths drosophila/20190128_113421.mp4\n",
        "!/usr/local/envs/sleap/bin/sleap-train drosophila/centroid.json drosophila/courtship_labels.slp --video-paths drosophila/20190128_113421.mp4"
      ],
      "metadata": {
        "id": "qpmSgFBDCG2b"
      },
      "execution_count": null,
      "outputs": []
    },
    {
      "cell_type": "code",
      "source": [
        "!/usr/local/envs/sleap/bin/sleap-track drosophila/20190128_113421.mp4 -m models/buggy.centered_instance/ -m models/buggy.centroid/"
      ],
      "metadata": {
        "id": "cOcf30AqJc2C",
        "outputId": "4fb9540b-2dc5-411a-ff0e-e87daae1d12c",
        "colab": {
          "base_uri": "https://localhost:8080/"
        }
      },
      "execution_count": 73,
      "outputs": [
        {
          "output_type": "stream",
          "name": "stdout",
          "text": [
            "Started inference at: 2025-04-15 16:06:52.383678\n",
            "Args:\n",
            "\u001b[1m{\u001b[0m\n",
            "\u001b[2;32m│   \u001b[0m\u001b[32m'data_path'\u001b[0m: \u001b[32m'drosophila/20190128_113421.mp4'\u001b[0m,\n",
            "\u001b[2;32m│   \u001b[0m\u001b[32m'models'\u001b[0m: \u001b[1m[\u001b[0m\u001b[32m'models/buggy.centered_instance/'\u001b[0m, \u001b[32m'models/buggy.centroid/'\u001b[0m\u001b[1m]\u001b[0m,\n",
            "\u001b[2;32m│   \u001b[0m\u001b[32m'frames'\u001b[0m: \u001b[32m''\u001b[0m,\n",
            "\u001b[2;32m│   \u001b[0m\u001b[32m'only_labeled_frames'\u001b[0m: \u001b[3;91mFalse\u001b[0m,\n",
            "\u001b[2;32m│   \u001b[0m\u001b[32m'only_suggested_frames'\u001b[0m: \u001b[3;91mFalse\u001b[0m,\n",
            "\u001b[2;32m│   \u001b[0m\u001b[32m'output'\u001b[0m: \u001b[3;35mNone\u001b[0m,\n",
            "\u001b[2;32m│   \u001b[0m\u001b[32m'no_empty_frames'\u001b[0m: \u001b[3;91mFalse\u001b[0m,\n",
            "\u001b[2;32m│   \u001b[0m\u001b[32m'verbosity'\u001b[0m: \u001b[32m'rich'\u001b[0m,\n",
            "\u001b[2;32m│   \u001b[0m\u001b[32m'video.dataset'\u001b[0m: \u001b[3;35mNone\u001b[0m,\n",
            "\u001b[2;32m│   \u001b[0m\u001b[32m'video.input_format'\u001b[0m: \u001b[32m'channels_last'\u001b[0m,\n",
            "\u001b[2;32m│   \u001b[0m\u001b[32m'video.index'\u001b[0m: \u001b[32m''\u001b[0m,\n",
            "\u001b[2;32m│   \u001b[0m\u001b[32m'cpu'\u001b[0m: \u001b[3;91mFalse\u001b[0m,\n",
            "\u001b[2;32m│   \u001b[0m\u001b[32m'first_gpu'\u001b[0m: \u001b[3;91mFalse\u001b[0m,\n",
            "\u001b[2;32m│   \u001b[0m\u001b[32m'last_gpu'\u001b[0m: \u001b[3;91mFalse\u001b[0m,\n",
            "\u001b[2;32m│   \u001b[0m\u001b[32m'gpu'\u001b[0m: \u001b[32m'auto'\u001b[0m,\n",
            "\u001b[2;32m│   \u001b[0m\u001b[32m'max_edge_length_ratio'\u001b[0m: \u001b[1;36m0.25\u001b[0m,\n",
            "\u001b[2;32m│   \u001b[0m\u001b[32m'dist_penalty_weight'\u001b[0m: \u001b[1;36m1.0\u001b[0m,\n",
            "\u001b[2;32m│   \u001b[0m\u001b[32m'batch_size'\u001b[0m: \u001b[1;36m4\u001b[0m,\n",
            "\u001b[2;32m│   \u001b[0m\u001b[32m'open_in_gui'\u001b[0m: \u001b[3;91mFalse\u001b[0m,\n",
            "\u001b[2;32m│   \u001b[0m\u001b[32m'peak_threshold'\u001b[0m: \u001b[1;36m0.2\u001b[0m,\n",
            "\u001b[2;32m│   \u001b[0m\u001b[32m'max_instances'\u001b[0m: \u001b[3;35mNone\u001b[0m,\n",
            "\u001b[2;32m│   \u001b[0m\u001b[32m'tracking.tracker'\u001b[0m: \u001b[3;35mNone\u001b[0m,\n",
            "\u001b[2;32m│   \u001b[0m\u001b[32m'tracking.max_tracking'\u001b[0m: \u001b[3;35mNone\u001b[0m,\n",
            "\u001b[2;32m│   \u001b[0m\u001b[32m'tracking.max_tracks'\u001b[0m: \u001b[3;35mNone\u001b[0m,\n",
            "\u001b[2;32m│   \u001b[0m\u001b[32m'tracking.target_instance_count'\u001b[0m: \u001b[3;35mNone\u001b[0m,\n",
            "\u001b[2;32m│   \u001b[0m\u001b[32m'tracking.pre_cull_to_target'\u001b[0m: \u001b[3;35mNone\u001b[0m,\n",
            "\u001b[2;32m│   \u001b[0m\u001b[32m'tracking.pre_cull_iou_threshold'\u001b[0m: \u001b[3;35mNone\u001b[0m,\n",
            "\u001b[2;32m│   \u001b[0m\u001b[32m'tracking.post_connect_single_breaks'\u001b[0m: \u001b[3;35mNone\u001b[0m,\n",
            "\u001b[2;32m│   \u001b[0m\u001b[32m'tracking.clean_instance_count'\u001b[0m: \u001b[3;35mNone\u001b[0m,\n",
            "\u001b[2;32m│   \u001b[0m\u001b[32m'tracking.clean_iou_threshold'\u001b[0m: \u001b[3;35mNone\u001b[0m,\n",
            "\u001b[2;32m│   \u001b[0m\u001b[32m'tracking.similarity'\u001b[0m: \u001b[3;35mNone\u001b[0m,\n",
            "\u001b[2;32m│   \u001b[0m\u001b[32m'tracking.match'\u001b[0m: \u001b[3;35mNone\u001b[0m,\n",
            "\u001b[2;32m│   \u001b[0m\u001b[32m'tracking.robust'\u001b[0m: \u001b[3;35mNone\u001b[0m,\n",
            "\u001b[2;32m│   \u001b[0m\u001b[32m'tracking.track_window'\u001b[0m: \u001b[3;35mNone\u001b[0m,\n",
            "\u001b[2;32m│   \u001b[0m\u001b[32m'tracking.min_new_track_points'\u001b[0m: \u001b[3;35mNone\u001b[0m,\n",
            "\u001b[2;32m│   \u001b[0m\u001b[32m'tracking.min_match_points'\u001b[0m: \u001b[3;35mNone\u001b[0m,\n",
            "\u001b[2;32m│   \u001b[0m\u001b[32m'tracking.img_scale'\u001b[0m: \u001b[3;35mNone\u001b[0m,\n",
            "\u001b[2;32m│   \u001b[0m\u001b[32m'tracking.of_window_size'\u001b[0m: \u001b[3;35mNone\u001b[0m,\n",
            "\u001b[2;32m│   \u001b[0m\u001b[32m'tracking.of_max_levels'\u001b[0m: \u001b[3;35mNone\u001b[0m,\n",
            "\u001b[2;32m│   \u001b[0m\u001b[32m'tracking.save_shifted_instances'\u001b[0m: \u001b[3;35mNone\u001b[0m,\n",
            "\u001b[2;32m│   \u001b[0m\u001b[32m'tracking.kf_node_indices'\u001b[0m: \u001b[3;35mNone\u001b[0m,\n",
            "\u001b[2;32m│   \u001b[0m\u001b[32m'tracking.kf_init_frame_count'\u001b[0m: \u001b[3;35mNone\u001b[0m\n",
            "\u001b[1m}\u001b[0m\n",
            "\n",
            "INFO:sleap.nn.inference:Auto-selected GPU 0 with 15092 MiB of free memory.\n",
            "Versions:\n",
            "SLEAP: 1.4.1a2\n",
            "TensorFlow: 2.7.0\n",
            "Numpy: 1.21.6\n",
            "Python: 3.7.12\n",
            "OS: Linux-6.1.85+-x86_64-with-debian-bookworm-sid\n",
            "\n",
            "System:\n",
            "GPUs: 1/1 available\n",
            "  Device: /physical_device:GPU:0\n",
            "         Available: True\n",
            "       Initialized: False\n",
            "     Memory growth: True\n",
            "\n",
            "Video: drosophila/20190128_113421.mp4\n",
            "\u001b[2KPredicting... \u001b[90m━━━━━━━━━━━━━━━━━━━━━━━━━━━━━━━━━━━━━━━\u001b[0m \u001b[35m100%\u001b[0m ETA: \u001b[36m0:00:00\u001b[0m \u001b[31m23.4 FPS\u001b[0m\n",
            "\u001b[?25hFinished inference at: 2025-04-15 16:07:36.734791\n",
            "Total runtime: 44.3511381149292 secs\n",
            "Predicted frames: 1101/1101\n",
            "Provenance:\n",
            "\u001b[1m{\u001b[0m\n",
            "\u001b[2;32m│   \u001b[0m\u001b[32m'model_paths'\u001b[0m: \u001b[1m[\u001b[0m\n",
            "\u001b[2;32m│   │   \u001b[0m\u001b[32m'models/buggy.centered_instance/training_config.json'\u001b[0m,\n",
            "\u001b[2;32m│   │   \u001b[0m\u001b[32m'models/buggy.centroid/training_config.json'\u001b[0m\n",
            "\u001b[2;32m│   \u001b[0m\u001b[1m]\u001b[0m,\n",
            "\u001b[2;32m│   \u001b[0m\u001b[32m'predictor'\u001b[0m: \u001b[32m'TopDownPredictor'\u001b[0m,\n",
            "\u001b[2;32m│   \u001b[0m\u001b[32m'sleap_version'\u001b[0m: \u001b[32m'1.4.1a2'\u001b[0m,\n",
            "\u001b[2;32m│   \u001b[0m\u001b[32m'platform'\u001b[0m: \u001b[32m'Linux-6.1.85+-x86_64-with-debian-bookworm-sid'\u001b[0m,\n",
            "\u001b[2;32m│   \u001b[0m\u001b[32m'command'\u001b[0m: \u001b[32m'/usr/local/envs/sleap/bin/sleap-track drosophila/20190128_113421.mp4 -m models/buggy.centered_instance/ -m models/buggy.centroid/'\u001b[0m,\n",
            "\u001b[2;32m│   \u001b[0m\u001b[32m'data_path'\u001b[0m: \u001b[32m'drosophila/20190128_113421.mp4'\u001b[0m,\n",
            "\u001b[2;32m│   \u001b[0m\u001b[32m'output_path'\u001b[0m: \u001b[32m'drosophila/20190128_113421.mp4.predictions.slp'\u001b[0m,\n",
            "\u001b[2;32m│   \u001b[0m\u001b[32m'total_elapsed'\u001b[0m: \u001b[1;36m44.3511381149292\u001b[0m,\n",
            "\u001b[2;32m│   \u001b[0m\u001b[32m'start_timestamp'\u001b[0m: \u001b[32m'2025-04-15 16:06:52.383678'\u001b[0m,\n",
            "\u001b[2;32m│   \u001b[0m\u001b[32m'finish_timestamp'\u001b[0m: \u001b[32m'2025-04-15 16:07:36.734791'\u001b[0m\n",
            "\u001b[1m}\u001b[0m\n",
            "\n",
            "Saved output: drosophila/20190128_113421.mp4.predictions.slp\n"
          ]
        }
      ]
    },
    {
      "cell_type": "code",
      "source": [],
      "metadata": {
        "id": "aINGMW_tJeEX"
      },
      "execution_count": null,
      "outputs": []
    }
  ]
}