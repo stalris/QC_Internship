{
  "nbformat": 4,
  "nbformat_minor": 0,
  "metadata": {
    "colab": {
      "provenance": [],
      "authorship_tag": "ABX9TyNgbZ6BhqeWWrRpO2LxhHt0",
      "include_colab_link": true
    },
    "kernelspec": {
      "name": "python3",
      "display_name": "Python 3"
    },
    "language_info": {
      "name": "python"
    }
  },
  "cells": [
    {
      "cell_type": "markdown",
      "metadata": {
        "id": "view-in-github",
        "colab_type": "text"
      },
      "source": [
        "<a href=\"https://colab.research.google.com/github/stalris/QC_Internship/blob/main/sleap.ipynb\" target=\"_parent\"><img src=\"https://colab.research.google.com/assets/colab-badge.svg\" alt=\"Open In Colab\"/></a>"
      ]
    },
    {
      "cell_type": "markdown",
      "source": [],
      "metadata": {
        "id": "59o6NjheQMLG"
      }
    },
    {
      "cell_type": "code",
      "source": [
        "# download miniconda. Commands taken from the sleap installation docs, and tweaked for google colab. Think it installs conda 24.11.3 as of March 28th 2025\n",
        "!curl -fsSL --compressed https://github.com/conda-forge/miniforge/releases/latest/download/Miniforge3-Linux-x86_64.sh -o \"/content/m.sh\"\n",
        "!chmod +x \"/content/m.sh\"\n",
        "!./m.sh -b -f -p /usr/local\n",
        "!rm /content/m.sh"
      ],
      "metadata": {
        "id": "j4sRpTDaCGvY"
      },
      "execution_count": null,
      "outputs": []
    },
    {
      "cell_type": "code",
      "source": [
        "# install sleap via instructions from sleap docs\n",
        "!conda create -y -n sleap -c conda-forge -c nvidia -c sleap/label/dev -c sleap -c anaconda sleap=1.4.1"
      ],
      "metadata": {
        "id": "FoIm16W7EeN2"
      },
      "execution_count": null,
      "outputs": []
    },
    {
      "cell_type": "code",
      "source": [
        "# SLEAP relies on matplotlib_inline and IPython, which aren't included by default in the Conda environment. Install them now.\n",
        "!/usr/local/envs/sleap/bin/pip install matplotlib_inline IPython"
      ],
      "metadata": {
        "id": "8q3A4fPyarbB"
      },
      "execution_count": null,
      "outputs": []
    },
    {
      "cell_type": "markdown",
      "source": [],
      "metadata": {
        "id": "L5SQ8UXsomdT"
      }
    },
    {
      "cell_type": "code",
      "source": [
        "# per chatgpt, the following checks if Tensorflow is using a GPU\n",
        "import tensorflow as tf\n",
        "print(\"TensorFlow version:\", tf.__version__)\n",
        "print(\"Built with CUDA:\", tf.test.is_built_with_cuda())\n",
        "print(\"GPU devices found:\", tf.config.list_physical_devices('GPU'))"
      ],
      "metadata": {
        "id": "wsG0WUGmOQD_"
      },
      "execution_count": null,
      "outputs": []
    },
    {
      "cell_type": "code",
      "source": [
        "!wget -O fish_small.mp4 https://drive.google.com/drive/folders/1qtYAecGsAJ48JSn2_dXzK6M__Svo8SxP?usp=sharing\n",
        "!wget -O fish.zip https://github.com/stalris/QC_Internship/archive/refs/heads/main.zip\n",
        "!unzip fish.zip -d fish\n",
        "!rm fish.zip\n",
        "!mv fish/QC_Internship-main/fish_package .\n",
        "!rm -r fish"
      ],
      "metadata": {
        "id": "Ls8wUBTclbCm"
      },
      "execution_count": null,
      "outputs": []
    },
    {
      "cell_type": "code",
      "source": [
        "# just incase I need the sample data again\n",
        "\n",
        "#!apt-get install tree\n",
        "#!wget -O dataset.zip https://github.com/talmolab/sleap-datasets/releases/download/dm-courtship-v1/drosophila-melanogaster-courtship.zip\n",
        "#!mkdir -p dataset\n",
        "#!unzip dataset.zip -d dataset\n",
        "#!rm dataset.zip\n",
        "#!tree dataset\n",
        "#!mkdir -p drosophila\n",
        "#!mv dataset/drosophila-melanogaster-courtship/* drosophila/\n",
        "#!rm -rf dataset\n",
        "\n",
        "# I set the \"run_name\" attribute as \"buggy\" in each config file.\n",
        "\n",
        "#!/usr/local/envs/sleap/bin/sleap-train drosophila/centered_instance.json drosophila/courtship_labels.slp --video-paths drosophila/20190128_113421.mp4\n",
        "#!/usr/local/envs/sleap/bin/sleap-train drosophila/centroid.json drosophila/courtship_labels.slp --video-paths drosophila/20190128_113421.mp4\n",
        "#!/usr/local/envs/sleap/bin/sleap-track drosophila/20190128_113421.mp4 -m models/buggy.centered_instance/ -m models/buggy.centroid/"
      ],
      "metadata": {
        "id": "20NvLQtWsIE8"
      },
      "execution_count": null,
      "outputs": []
    },
    {
      "cell_type": "code",
      "source": [],
      "metadata": {
        "id": "qpmSgFBDCG2b"
      },
      "execution_count": null,
      "outputs": []
    }
  ]
}