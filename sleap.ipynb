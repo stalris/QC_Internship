{
  "nbformat": 4,
  "nbformat_minor": 0,
  "metadata": {
    "colab": {
      "provenance": [],
      "authorship_tag": "ABX9TyOMN4DixCVBmJN+j0YUvd9u",
      "include_colab_link": true
    },
    "kernelspec": {
      "name": "python3",
      "display_name": "Python 3"
    },
    "language_info": {
      "name": "python"
    }
  },
  "cells": [
    {
      "cell_type": "markdown",
      "metadata": {
        "id": "view-in-github",
        "colab_type": "text"
      },
      "source": [
        "<a href=\"https://colab.research.google.com/github/stalris/QC_Internship/blob/main/sleap.ipynb\" target=\"_parent\"><img src=\"https://colab.research.google.com/assets/colab-badge.svg\" alt=\"Open In Colab\"/></a>"
      ]
    },
    {
      "cell_type": "markdown",
      "source": [],
      "metadata": {
        "id": "59o6NjheQMLG"
      }
    },
    {
      "cell_type": "code",
      "source": [
        "\n",
        "# Sanity check, which python are we using, and where is it?\n",
        "!which python\n",
        "!python --version\n",
        "\n",
        "# throws an error when using %%bash instead of !\n",
        "!which conda\n",
        "!conda --version"
      ],
      "metadata": {
        "id": "N4DLbAYKvusz"
      },
      "execution_count": null,
      "outputs": []
    },
    {
      "cell_type": "code",
      "source": [
        "# download miniconda. Commands taken from the sleap installation docs, and tweaked for google colab. Think it installs conda 24.11.3 as of March 28th 2025\n",
        "!curl -fsSL --compressed https://github.com/conda-forge/miniforge/releases/latest/download/Miniforge3-Linux-x86_64.sh -o \"/content/m.sh\"\n",
        "!chmod +x \"/content/m.sh\"\n",
        "!./m.sh -b -f -p /usr/local\n",
        "!rm /content/m.sh"
      ],
      "metadata": {
        "id": "j4sRpTDaCGvY"
      },
      "execution_count": null,
      "outputs": []
    },
    {
      "cell_type": "code",
      "source": [
        "# SLEAP relies on matplotlib_inline and IPython, which aren't included by default in the Conda environment. Install them now.\n",
        "!conda install matplotlib_inline ipython"
      ],
      "metadata": {
        "id": "o2jytuUtMmlh"
      },
      "execution_count": null,
      "outputs": []
    },
    {
      "cell_type": "code",
      "source": [
        "# install sleap via instructions from sleap docs\n",
        "!conda create -y -n sleap -c conda-forge -c nvidia -c sleap/label/dev -c sleap -c anaconda sleap=1.4.1"
      ],
      "metadata": {
        "id": "FoIm16W7EeN2"
      },
      "execution_count": null,
      "outputs": []
    },
    {
      "cell_type": "code",
      "source": [
        "# per chatgpt, the following checks if sleap was installed with GPU support\n",
        "import tensorflow as tf\n",
        "print(\"TensorFlow version:\", tf.__version__)\n",
        "print(\"Built with CUDA:\", tf.test.is_built_with_cuda())\n",
        "print(\"GPU devices found:\", tf.config.list_physical_devices('GPU'))\n",
        "\n"
      ],
      "metadata": {
        "id": "wsG0WUGmOQD_"
      },
      "execution_count": null,
      "outputs": []
    }
  ]
}